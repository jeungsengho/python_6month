{
  "nbformat": 4,
  "nbformat_minor": 0,
  "metadata": {
    "colab": {
      "provenance": [],
      "collapsed_sections": [],
      "authorship_tag": "ABX9TyMCOkmbe86VgCemx9QaZwbG",
      "include_colab_link": true
    },
    "kernelspec": {
      "name": "python3",
      "display_name": "Python 3"
    },
    "language_info": {
      "name": "python"
    }
  },
  "cells": [
    {
      "cell_type": "markdown",
      "metadata": {
        "id": "view-in-github",
        "colab_type": "text"
      },
      "source": [
        "<a href=\"https://colab.research.google.com/github/jeungsengho/python_6month/blob/main/6_%EC%8A%A4%ED%81%AC%EB%A0%88%EC%9D%B4%ED%95%91.ipynb\" target=\"_parent\"><img src=\"https://colab.research.google.com/assets/colab-badge.svg\" alt=\"Open In Colab\"/></a>"
      ]
    },
    {
      "cell_type": "markdown",
      "source": [
        "# **1. 스크레이핑(Scraping)**"
      ],
      "metadata": {
        "id": "wMqiV4Kq6ixM"
      }
    },
    {
      "cell_type": "markdown",
      "source": [
        "* 크롤링(Crawling): 인터넷의 데이터를 활용하기 위해 정보들을 분석하고 활용할 수 있게 수집하는 행위\n",
        "* 크롤링과 같은 개념이지만 데이터를 추출해서 가공하는 최종 목표\n"
      ],
      "metadata": {
        "id": "JxId8XRFK3Yv"
      }
    },
    {
      "cell_type": "markdown",
      "source": [
        "# **2. 크롤링**"
      ],
      "metadata": {
        "id": "xd_H5rdZLjcq"
      }
    },
    {
      "cell_type": "markdown",
      "source": [
        "### **2-1. basicenglishspeaking.com**"
      ],
      "metadata": {
        "id": "ZT8v2GEBLnBQ"
      }
    },
    {
      "cell_type": "code",
      "source": [
        "import requests # 서버에 접속해서 특정 페이지를 요청하고 요청된 내용(html문서)을 가져오는 역할 (요청 -> 응답)\n",
        "from bs4 import BeautifulSoup # html 문서를 해석하는 역할 (파싱)"
      ],
      "metadata": {
        "id": "DRrPCeZkLpny"
      },
      "execution_count": null,
      "outputs": []
    },
    {
      "cell_type": "code",
      "source": [
        "site = 'https://basicenglishspeaking.com/daily-english-conversation-topics/'\n",
        "request = requests.get(site)\n",
        "print(request) # <Response [200]> 정상적인 접속\n",
        "# print(request.text) # html\n",
        "html = request.text"
      ],
      "metadata": {
        "colab": {
          "base_uri": "https://localhost:8080/"
        },
        "id": "pfZv1BkGNO2e",
        "outputId": "3a5adb59-e08d-4dd7-8dba-5d9a2604a2c3"
      },
      "execution_count": null,
      "outputs": [
        {
          "output_type": "stream",
          "name": "stdout",
          "text": [
            "<Response [200]>\n"
          ]
        }
      ]
    },
    {
      "cell_type": "code",
      "source": [
        "soup = BeautifulSoup(html)"
      ],
      "metadata": {
        "id": "CWmGLYUuOKOf"
      },
      "execution_count": null,
      "outputs": []
    },
    {
      "cell_type": "code",
      "source": [
        "divs = soup.findAll('div', {'class':'thrv-columns'})\n",
        "print(divs)"
      ],
      "metadata": {
        "colab": {
          "base_uri": "https://localhost:8080/"
        },
        "id": "kDaFleQBPSp8",
        "outputId": "50fb893c-43b4-4155-8759-28d06f717c5f"
      },
      "execution_count": null,
      "outputs": [
        {
          "output_type": "stream",
          "name": "stdout",
          "text": [
            "[<div class=\"thrv_wrapper thrv-columns\" style=\"--tcb-col-el-width:792;\"><div class=\"tcb-flex-row tcb--cols--3\"><div class=\"tcb-flex-col\"><div class=\"tcb-col\"><div class=\"thrv_wrapper thrv_text_element\"><p>1. <a class=\"tve-froala\" href=\"https://basicenglishspeaking.com/family/\" style=\"outline: none;\">Family</a><br/>2. <a class=\"tve-froala\" href=\"https://basicenglishspeaking.com/restaurant/\" style=\"outline: none;\">Restaurant</a><br/>3. <a href=\"https://basicenglishspeaking.com/books/\">Books</a><br/>4. <a href=\"https://basicenglishspeaking.com/travel/\">Travel</a><br/>5. <a href=\"https://basicenglishspeaking.com/website/\">Website</a><br/>6. <a href=\"https://basicenglishspeaking.com/accident/\">Accident</a><br/>7. <a class=\"tve-froala\" href=\"https://basicenglishspeaking.com/childhood-memory/\" style=\"outline: none;\">Childhood memory</a><br/>8. <a class=\"tve-froala\" href=\"https://basicenglishspeaking.com/favorite-rooms/\" style=\"outline: none;\">Favorite rooms</a><br/>9. <a href=\"https://basicenglishspeaking.com/presents/\">Presents</a><br/>10. <a class=\"tve-froala\" href=\"https://basicenglishspeaking.com/historical-place/\" style=\"outline: none;\">Historical place</a><br/>11. <a class=\"tve-froala\" href=\"https://basicenglishspeaking.com/newspaper-magazine/\" style=\"outline: none;\">Newspaper/ Magazine</a><br/>12. <a href=\"https://basicenglishspeaking.com/an-event/\">A memorable event</a><br/>13. <a href=\"https://basicenglishspeaking.com/a-subject/\">A favorite subject</a><br/>14. <a href=\"https://basicenglishspeaking.com/a-museum/\">A museum</a><br/>15. <a href=\"https://basicenglishspeaking.com/a-movie/\">A favorite movie</a><br/>16. <a href=\"https://basicenglishspeaking.com/a-foreign-country/\">A foreign country</a><br/>17. <a href=\"https://basicenglishspeaking.com/parties/\">Parties</a><br/>18. <a href=\"https://basicenglishspeaking.com/a-teacher/\">A teacher</a><br/>19. <a href=\"https://basicenglishspeaking.com/a-friend/\">A friend</a><br/>20. <a href=\"https://basicenglishspeaking.com/a-hotel/\">A hotel</a><br/>21. <a href=\"https://basicenglishspeaking.com/a-letter/\">A letter</a><br/>22. <a href=\"https://basicenglishspeaking.com/hobbies/\">Hobbies</a><br/>23. <a href=\"https://basicenglishspeaking.com/music/\">Music</a><br/>24. <a href=\"https://basicenglishspeaking.com/shopping/\">Shopping</a><br/>25. <a href=\"https://basicenglishspeaking.com/holiday/\">Holiday</a></p></div></div></div><div class=\"tcb-flex-col\"><div class=\"tcb-col\"><div class=\"thrv_wrapper thrv_text_element\"><p>26. <a class=\"tve-froala\" href=\"https://basicenglishspeaking.com/animals/\" style=\"outline: none;\">Animals</a><br/>27. <a class=\"tve-froala\" href=\"https://basicenglishspeaking.com/a-practical-skill/\" style=\"outline: none;\">A practical skill</a><br/>28. <a href=\"https://basicenglishspeaking.com/sports/\">Sport</a><br/>29. <a href=\"https://basicenglishspeaking.com/a-school/\">A School</a><br/>30. <a href=\"https://basicenglishspeaking.com/festival/\">Festival</a><br/>31. <a href=\"https://basicenglishspeaking.com/food/\">Food</a><br/>32. <a href=\"https://basicenglishspeaking.com/household-appliance/\">Household appliance</a><br/>33. <a href=\"https://basicenglishspeaking.com/a-music-band/\">A music band</a><br/>34. <a href=\"https://basicenglishspeaking.com/weather/\">Weather</a><br/>35. <a href=\"https://basicenglishspeaking.com/neighbor/\">Neighbor</a><br/>36. <a href=\"https://basicenglishspeaking.com/natural-scenery/\">Natural scenery</a><br/>37. <a href=\"https://basicenglishspeaking.com/outdoor-activities/\">Outdoor activities</a><br/>38. <a href=\"https://basicenglishspeaking.com/law/\">Law</a><br/>39. <a href=\"https://basicenglishspeaking.com/pollution/\">Pollution</a><br/>40. <a href=\"https://basicenglishspeaking.com/traffic-jam/\">Traffic jam</a><br/>41. <a href=\"https://basicenglishspeaking.com/tv-program/\">TV program</a><br/>42. <a href=\"https://basicenglishspeaking.com/architecture-building/\">Architect/ Building</a><br/>43. <a href=\"https://basicenglishspeaking.com/electronic-media/\">Electronic Media</a><br/>44. <a href=\"https://basicenglishspeaking.com/job-career/\">Job/ Career</a><br/>45. <a href=\"https://basicenglishspeaking.com/competition-contest/\">Competition/ contest</a><br/>46. <a href=\"https://basicenglishspeaking.com/a-garden/\">A garden</a><br/>47. <a href=\"https://basicenglishspeaking.com/hometown/\">Hometown</a><br/>48. <a href=\"https://basicenglishspeaking.com/clothing/\">Clothing</a><br/>49. <a href=\"https://basicenglishspeaking.com/an-advertisement/\">Advertisement</a><br/>50. <a href=\"https://basicenglishspeaking.com/a-project/\">A project</a></p></div></div></div><div class=\"tcb-flex-col\"><div class=\"tcb-col\"><div class=\"thrv_wrapper thrv_text_element\"><p>51. <a href=\"https://basicenglishspeaking.com/a-wedding/\">A wedding</a><br/>52. <a href=\"https://basicenglishspeaking.com/a-coffee-shop/\">A Coffee shop</a><br/>53. <a href=\"https://basicenglishspeaking.com/culture/\">Culture</a><br/>54. <a href=\"https://basicenglishspeaking.com/transport/\">Transport</a><br/>55. <a href=\"https://basicenglishspeaking.com/politician/\">Politician</a><br/>56. <a href=\"https://basicenglishspeaking.com/communication/\">Communication</a><br/>57. <a href=\"https://basicenglishspeaking.com/business/\">Business</a><br/>58. <a href=\"https://basicenglishspeaking.com/computer/\">Computer</a><br/>59. <a href=\"https://basicenglishspeaking.com/exercise/\">Exercise</a><br/>60. <a href=\"https://basicenglishspeaking.com/goal-ambition/\">Goal/ ambition</a><br/>61. <a href=\"https://basicenglishspeaking.com/art/\">Art</a><br/>62. <a href=\"https://basicenglishspeaking.com/fashion/\">Fashion</a><br/>63. <a href=\"https://basicenglishspeaking.com/jewelry/\">Jewelry</a><br/>64. <a href=\"https://basicenglishspeaking.com/cosmetic/\">Cosmetic</a><br/>65. <a href=\"https://basicenglishspeaking.com/indoor-game/\">Indoor Game</a><br/>66. <a href=\"https://basicenglishspeaking.com/phone-conversation/\">Phone conversation</a><br/>67. <a href=\"https://basicenglishspeaking.com/learning-second-language/\">Learning A Second language</a><br/>68. <a href=\"https://basicenglishspeaking.com/a-creative-person/\">A Creative Person</a><br/>69. <a href=\"https://basicenglishspeaking.com/a-celebrity/\">A celebrity</a><br/>70. <a href=\"https://basicenglishspeaking.com/a-health-problem/\">A Health Problem</a><br/>71. <a href=\"https://basicenglishspeaking.com/technological-advancements/\">Technological advancements</a><br/>72. <a href=\"https://basicenglishspeaking.com/a-landmark/\">A Landmark</a><br/>73. <a href=\"https://basicenglishspeaking.com/handcraft-items/\">Handcraft Items</a><br/>74. <a href=\"https://basicenglishspeaking.com/plastic-surgery/\">Plastic Surgery</a><br/>75. <a href=\"https://basicenglishspeaking.com/success/\">Success</a></p></div></div></div></div></div>]\n"
          ]
        }
      ]
    },
    {
      "cell_type": "code",
      "source": [
        "subject = []\n",
        "for div in divs:\n",
        "  links = div.findAll('a')\n",
        "  # print(links)\n",
        "  for link in links:\n",
        "    # print(link.text)\n",
        "    subject.append(link.text)"
      ],
      "metadata": {
        "id": "L-ja69LxPTqo"
      },
      "execution_count": null,
      "outputs": []
    },
    {
      "cell_type": "code",
      "source": [
        "print('총', len(subject), '개의 주제를 찾았습니다.')\n",
        "for i in range(len(subject)):\n",
        "  # print('{0:2d}. {1:s}'.format(i+1, subject[i]))\n",
        "  print(f'{i+1:2d}. {subject[i]}')"
      ],
      "metadata": {
        "colab": {
          "base_uri": "https://localhost:8080/"
        },
        "id": "lXf5RBqxS2BV",
        "outputId": "699fd518-e588-43a3-aafc-7166e1efc252"
      },
      "execution_count": null,
      "outputs": [
        {
          "output_type": "stream",
          "name": "stdout",
          "text": [
            "총 75 개의 주제를 찾았습니다.\n",
            " 1. Family\n",
            " 2. Restaurant\n",
            " 3. Books\n",
            " 4. Travel\n",
            " 5. Website\n",
            " 6. Accident\n",
            " 7. Childhood memory\n",
            " 8. Favorite rooms\n",
            " 9. Presents\n",
            "10. Historical place\n",
            "11. Newspaper/ Magazine\n",
            "12. A memorable event\n",
            "13. A favorite subject\n",
            "14. A museum\n",
            "15. A favorite movie\n",
            "16. A foreign country\n",
            "17. Parties\n",
            "18. A teacher\n",
            "19. A friend\n",
            "20. A hotel\n",
            "21. A letter\n",
            "22. Hobbies\n",
            "23. Music\n",
            "24. Shopping\n",
            "25. Holiday\n",
            "26. Animals\n",
            "27. A practical skill\n",
            "28. Sport\n",
            "29. A School\n",
            "30. Festival\n",
            "31. Food\n",
            "32. Household appliance\n",
            "33. A music band\n",
            "34. Weather\n",
            "35. Neighbor\n",
            "36. Natural scenery\n",
            "37. Outdoor activities\n",
            "38. Law\n",
            "39. Pollution\n",
            "40. Traffic jam\n",
            "41. TV program\n",
            "42. Architect/ Building\n",
            "43. Electronic Media\n",
            "44. Job/ Career\n",
            "45. Competition/ contest\n",
            "46. A garden\n",
            "47. Hometown\n",
            "48. Clothing\n",
            "49. Advertisement\n",
            "50. A project\n",
            "51. A wedding\n",
            "52. A Coffee shop\n",
            "53. Culture\n",
            "54. Transport\n",
            "55. Politician\n",
            "56. Communication\n",
            "57. Business\n",
            "58. Computer\n",
            "59. Exercise\n",
            "60. Goal/ ambition\n",
            "61. Art\n",
            "62. Fashion\n",
            "63. Jewelry\n",
            "64. Cosmetic\n",
            "65. Indoor Game\n",
            "66. Phone conversation\n",
            "67. Learning A Second language\n",
            "68. A Creative Person\n",
            "69. A celebrity\n",
            "70. A Health Problem\n",
            "71. Technological advancements\n",
            "72. A Landmark\n",
            "73. Handcraft Items\n",
            "74. Plastic Surgery\n",
            "75. Success\n"
          ]
        }
      ]
    },
    {
      "cell_type": "markdown",
      "source": [
        "### **2-2. 다음 뉴스기사**"
      ],
      "metadata": {
        "id": "t2VTlWRVTkzr"
      }
    },
    {
      "cell_type": "code",
      "source": [
        "# https://movie.v.daum.net/v/20220625085027862\n",
        "\n",
        "def daum_news_title(news_id):\n",
        "  url = 'https://movie.v.daum.net/v/{}'.format(news_id)\n",
        "  request = requests.get(url)\n",
        "  # print(request)\n",
        "  soup = BeautifulSoup(request.text)\n",
        "  # title = soup.findAll('h3', {'class':'tit_view'})\n",
        "  # title = soup.find('h3', {'class':'tit_view'})\n",
        "  title = soup.select_one('h3.tit_view')\n",
        "  if title:\n",
        "    return title.text.strip()\n",
        "  return ''"
      ],
      "metadata": {
        "id": "sdJ0sdg5Xe98"
      },
      "execution_count": null,
      "outputs": []
    },
    {
      "cell_type": "code",
      "source": [
        "daum_news_title('20220625085027862')"
      ],
      "metadata": {
        "colab": {
          "base_uri": "https://localhost:8080/",
          "height": 35
        },
        "id": "LGFwvxNeYcfu",
        "outputId": "ce603b10-57ad-4724-d4da-d606c8e1cbee"
      },
      "execution_count": null,
      "outputs": [
        {
          "output_type": "execute_result",
          "data": {
            "text/plain": [
              "'팬데믹 후 첫 천만..마동석 펀치로 심폐소생한 극장가 [상반기 결산-영화]'"
            ],
            "application/vnd.google.colaboratory.intrinsic+json": {
              "type": "string"
            }
          },
          "metadata": {},
          "execution_count": 28
        }
      ]
    },
    {
      "cell_type": "code",
      "source": [
        "daum_news_title('20221101145818374')"
      ],
      "metadata": {
        "colab": {
          "base_uri": "https://localhost:8080/",
          "height": 35
        },
        "id": "Uoy1YkK_YfqY",
        "outputId": "2665a3b2-f23f-4f4b-fb11-006c805ee104"
      },
      "execution_count": null,
      "outputs": [
        {
          "output_type": "execute_result",
          "data": {
            "text/plain": [
              "'\"맨 밑바닥에 깔렸었는데...\" 이태원 참사 생존자의 증언'"
            ],
            "application/vnd.google.colaboratory.intrinsic+json": {
              "type": "string"
            }
          },
          "metadata": {},
          "execution_count": 30
        }
      ]
    },
    {
      "cell_type": "markdown",
      "source": [
        "### **2-3. 벅스뮤직 차트**"
      ],
      "metadata": {
        "id": "x-qmTN8xZ_Kj"
      }
    },
    {
      "cell_type": "code",
      "source": [
        "request = requests.get('https://music.bugs.co.kr/chart')\n",
        "html = request.text\n",
        "soup = BeautifulSoup(html)\n",
        "\n",
        "titles = soup.findAll('p', {'class':'title'})\n",
        "# print(titles)\n",
        "artists = soup.findAll('p', {'class':'artist'})\n",
        "# print(artists)"
      ],
      "metadata": {
        "id": "owDxrMXaeeYA"
      },
      "execution_count": null,
      "outputs": []
    },
    {
      "cell_type": "code",
      "source": [
        "for i in range(len(titles)):\n",
        "  title = titles[i].text.strip()\n",
        "  artist = artists[i].text.strip().split('\\n')[0]\n",
        "  # data = '{0:3d}위 {1} - {2}'.format(i+1, artist, title)\n",
        "  data = f'{i+1:3d}위 {artist} - {title}'\n",
        "  print(data)"
      ],
      "metadata": {
        "colab": {
          "base_uri": "https://localhost:8080/"
        },
        "id": "oACZ0349frAO",
        "outputId": "405f9bd7-6275-44be-d933-a75b6ee8c0d4"
      },
      "execution_count": null,
      "outputs": [
        {
          "output_type": "stream",
          "name": "stdout",
          "text": [
            "  1위 (여자)아이들 - Nxde\n",
            "  2위 LE SSERAFIM (르세라핌) - ANTIFRAGILE\n",
            "  3위 윤하(Younha/ユンナ) - 사건의 지평선\n",
            "  4위 NewJeans - Hype Boy\n",
            "  5위 IVE (아이브) - After LIKE\n",
            "  6위 BLACKPINK - Shut Down\n",
            "  7위 지코 - 새삥 (Prod. ZICO) (Feat. 호미들)\n",
            "  8위 BE'O (비오) - 자격지심 (Feat. ZICO)\n",
            "  9위 NewJeans - Attention\n",
            " 10위 Crush - Rush Hour (Feat. j-hope of BTS)\n",
            " 11위 BLACKPINK - Pink Venom\n",
            " 12위 IVE (아이브) - LOVE DIVE\n",
            " 13위 NewJeans - Cookie\n",
            " 14위 10CM - 그라데이션\n",
            " 15위 테이(Tei) - Monologue\n",
            " 16위 Christopher(크리스토퍼) - When I Get Old\n",
            " 17위 10CM - 딱 10CM만\n",
            " 18위 (여자)아이들 - Change\n",
            " 19위 볼빨간사춘기 - Love story\n",
            " 20위 NMIXX - DICE\n",
            " 21위 BE'O (비오) - LOVE me\n",
            " 22위 LE SSERAFIM (르세라핌) - FEARLESS\n",
            " 23위 Charlie Puth(찰리 푸스) - I Don’t Think That I Like Her\n",
            " 24위 백지영 - 오지 않는 사람아\n",
            " 25위 이찬혁 - 파노라마\n",
            " 26위 멜로망스(MeloMance) - 사랑인가 봐\n",
            " 27위 경서 - 고백연습\n",
            " 28위 강민경 - 우린 그렇게 사랑해서\n",
            " 29위 Charlie Puth(찰리 푸스) - That's Hilarious\n",
            " 30위 이영현 - 그래서 그대는\n",
            " 31위 #안녕 - 해요 (2022)\n",
            " 32위 Taylor Swift(테일러 스위프트) - Anti-Hero\n",
            " 33위 (여자)아이들 - TOMBOY\n",
            " 34위 IVE (아이브) - ELEVEN\n",
            " 35위 TWICE (트와이스) - Talk that Talk\n",
            " 36위 BIG Naughty (서동현) - 정이라고 하자 (Feat. 10CM)\n",
            " 37위 ITZY (있지) - SNEAKERS\n",
            " 38위 (여자)아이들 - LOVE\n",
            " 39위 윤미래 - LAW (Prod. Czaer)\n",
            " 40위 LE SSERAFIM (르세라핌) - No Celestial\n",
            " 41위 WSG워너비 (가야G) - 그때 그 순간 그대로 (그그그)\n",
            " 42위 aespa - 도깨비불 (Illusion)\n",
            " 43위 잔나비 - 가을밤에 든 생각\n",
            " 44위 김승민 - 내 기쁨은 너가 벤틀리를 끄는 거야\n",
            " 45위 성시경 - 너의 모든 순간\n",
            " 46위 잔나비 - 사랑하긴 했었나요 스쳐가는 인연이었나요 짧지않은 우리 함께했던 시간들이 자꾸 내 마음을 가둬두네\n",
            " 47위 Charlie Puth(찰리 푸스) - Left and Right (Feat. Jung Kook of BTS)\n",
            " 48위 마마무(Mamamoo) - ILLELLA (일낼라)\n",
            " 49위 BIGBANG (빅뱅) - 봄여름가을겨울 (Still Life)\n",
            " 50위 권진아 - 진심이었던 사람만 바보가 돼\n",
            " 51위 LE SSERAFIM (르세라핌) - Impurities\n",
            " 52위 아이유(IU) - strawberry moon\n",
            " 53위 LE SSERAFIM (르세라핌) - Good Parts (when the quality is bad but I am)\n",
            " 54위 소녀시대 (GIRLS' GENERATION) - FOREVER 1\n",
            " 55위 Charlie Puth(찰리 푸스) - Dangerously\n",
            " 56위 경서 - 나의 X에게\n",
            " 57위 조유리 - Loveable\n",
            " 58위 주호 - 내가 아니라도\n",
            " 59위 WSG워너비 (4FIRE) - 보고싶었어\n",
            " 60위 경서예지 - 다정히 내 이름을 부르면\n",
            " 61위 폴킴(Paul Kim) - 모든 날, 모든 순간 (Every day, Every Moment)\n",
            " 62위 aespa - Girls\n",
            " 63위 아이유(IU) - 드라마\n",
            " 64위 한동근 - 새벽에 걸려온 너의 전화는\n",
            " 65위 The Kid LAROI - STAY\n",
            " 66위 Red Velvet (레드벨벳) - Feel My Rhythm\n",
            " 67위 다비치 - 팡파레\n",
            " 68위 태연 (TAEYEON) - INVU\n",
            " 69위 Sam Smith(샘 스미스) - Unholy\n",
            " 70위 진(Jin) - The Astronaut\n",
            " 71위 OneRepublic(원리퍼블릭) - I Ain't Worried\n",
            " 72위 LE SSERAFIM (르세라핌) - The Hydra\n",
            " 73위 선미 - 열이올라요 (Heart Burn)\n",
            " 74위 김민석 (멜로망스) - 취중고백\n",
            " 75위 잔나비 - 뜨거운 여름밤은 가고 남은 건 볼품없지만\n",
            " 76위 Benson Boone - In The Stars\n",
            " 77위 임영웅 - 사랑은 늘 도망가\n",
            " 78위 로이킴 - 그때로 돌아가\n",
            " 79위 나연 (TWICE) - POP!\n",
            " 80위 잔나비 - 주저하는 연인들을 위해\n",
            " 81위 임한별 - 떠나보낼 준비해 둘걸 그랬어\n",
            " 82위 (여자)아이들 - MY BAG\n",
            " 83위 21학번 - 스티커 사진\n",
            " 84위 이무진 - 신호등\n",
            " 85위 싸이 (PSY) - That That (prod. & feat. SUGA of BTS)\n",
            " 86위 (여자)아이들 - Reset\n",
            " 87위 Justin Bieber(저스틴 비버) - Off My Face\n",
            " 88위 잔나비 - She (Hidden Track No.V 1월 선정곡)\n",
            " 89위 (여자)아이들 - DARK (X-file)\n",
            " 90위 (여자)아이들 - 조각품\n",
            " 91위 Peder Elias - Loving You Girl (feat. Hkeem)\n",
            " 92위 윤하(Younha/ユンナ) - 오르트구름\n",
            " 93위 노을 - 우리가 남이 된다면\n",
            " 94위 볼빨간사춘기 - Seoul\n",
            " 95위 이영지 - 낮 밤 (feat. 박재범)\n",
            " 96위 NewJeans - Hurt\n",
            " 97위 주시크 (Joosiq) - 아무래도 난\n",
            " 98위 KCM - 사랑아\n",
            " 99위 김나영 - 못해\n",
            "100위 포맨 (4MEN) - 못해 (feat. 美)\n"
          ]
        }
      ]
    },
    {
      "cell_type": "markdown",
      "source": [
        "### **2-4. 멜론차트**"
      ],
      "metadata": {
        "id": "O5y8dgXCgjUs"
      }
    },
    {
      "cell_type": "code",
      "source": [
        "url = 'https://www.melon.com/chart/'\n",
        "request = requests.get(url)\n",
        "print(request)"
      ],
      "metadata": {
        "colab": {
          "base_uri": "https://localhost:8080/"
        },
        "id": "Zc7CfHJHhffm",
        "outputId": "3d445e15-b574-4edc-be29-ea3028f4a05d"
      },
      "execution_count": null,
      "outputs": [
        {
          "output_type": "stream",
          "name": "stdout",
          "text": [
            "<Response [406]>\n"
          ]
        }
      ]
    },
    {
      "cell_type": "code",
      "source": [
        "# User-Agent: Mozilla/5.0 (Windows NT 10.0; Win64; x64) AppleWebKit/537.36 (KHTML, like Gecko) Chrome/107.0.0.0 Safari/537.36\n",
        "# 접속을 막아놨을 때 받아오는 방법\n",
        "\n",
        "header = {'User-Agent':'Mozilla/5.0 (Windows NT 10.0; Win64; x64)'}\n",
        "url = 'https://www.melon.com/chart/'\n",
        "request = requests.get(url, headers=header)\n",
        "print(request)"
      ],
      "metadata": {
        "colab": {
          "base_uri": "https://localhost:8080/"
        },
        "id": "GU67iaH_hzX3",
        "outputId": "28fcbf8d-f73b-4a67-8b19-2ba45f622fd6"
      },
      "execution_count": null,
      "outputs": [
        {
          "output_type": "stream",
          "name": "stdout",
          "text": [
            "<Response [200]>\n"
          ]
        }
      ]
    },
    {
      "cell_type": "code",
      "source": [
        "soup = BeautifulSoup(request.text)"
      ],
      "metadata": {
        "id": "NgRzsqAMjt1o"
      },
      "execution_count": null,
      "outputs": []
    },
    {
      "cell_type": "code",
      "source": [
        "titles = soup.findAll('div', {'class':'rank01'})\n",
        "artists = soup.findAll('span', {'class':'checkEllipsis'})\n",
        "\n",
        "for i in range(len(titles)):\n",
        "  title = titles[i].text.strip()\n",
        "  artist = artists[i].text.strip()\n",
        "  # data = f'{i+1:3d}위 {artist} - {title}'\n",
        "  data = '{0:3d}위 {1} - {2}'.format(i+1, artist, title)\n",
        "  print(data)"
      ],
      "metadata": {
        "colab": {
          "base_uri": "https://localhost:8080/"
        },
        "id": "ps3lIYKNkkn_",
        "outputId": "5218371c-30c1-48d5-c811-6a967dde108f"
      },
      "execution_count": null,
      "outputs": [
        {
          "output_type": "stream",
          "name": "stdout",
          "text": [
            "  1위 (여자)아이들 - Nxde\n",
            "  2위 LE SSERAFIM (르세라핌) - ANTIFRAGILE\n",
            "  3위 윤하 (YOUNHA) - 사건의 지평선\n",
            "  4위 지코 (ZICO) - 새삥 (Prod. ZICO) (Feat. 호미들)\n",
            "  5위 IVE (아이브) - After LIKE\n",
            "  6위 NewJeans - Hype boy\n",
            "  7위 Crush - Rush Hour (Feat. j-hope of BTS)\n",
            "  8위 NewJeans - Attention\n",
            "  9위 BLACKPINK - Shut Down\n",
            " 10위 테이 - Monologue\n",
            " 11위 IVE (아이브) - LOVE DIVE\n",
            " 12위 BE'O (비오) - 자격지심 (Feat. ZICO)\n",
            " 13위 BLACKPINK - Pink Venom\n",
            " 14위 10CM, BIG Naughty (서동현) - 딱 10CM만\n",
            " 15위 임영웅 - 사랑은 늘 도망가\n",
            " 16위 강민경 (다비치), 잔나비 최정훈 - 우린 그렇게 사랑해서\n",
            " 17위 10CM - 그라데이션\n",
            " 18위 WSG워너비 (가야G) - 그때 그 순간 그대로 (그그그)\n",
            " 19위 임영웅 - 우리들의 블루스\n",
            " 20위 (여자)아이들 - TOMBOY\n",
            " 21위 #안녕 - 해요 (2022)\n",
            " 22위 NewJeans - Cookie\n",
            " 23위 임영웅 - 다시 만날 수 있을까\n",
            " 24위 멜로망스 - 사랑인가 봐\n",
            " 25위 주호 - 내가 아니라도\n",
            " 26위 BIG Naughty (서동현) - 정이라고 하자 (Feat. 10CM)\n",
            " 27위 WSG워너비 (4FIRE) - 보고싶었어\n",
            " 28위 임영웅 - 무지개\n",
            " 29위 임영웅 - 이제 나만 믿어요\n",
            " 30위 경서 - 나의 X에게\n",
            " 31위 LE SSERAFIM (르세라핌) - FEARLESS\n",
            " 32위 성시경 - 너의 모든 순간\n",
            " 33위 소녀시대 (GIRLS' GENERATION) - FOREVER 1\n",
            " 34위 임영웅 - 아버지\n",
            " 35위 싸이 (PSY) - That That (prod. & feat. SUGA of BTS)\n",
            " 36위 김민석 (멜로망스) - 취중고백\n",
            " 37위 IVE (아이브) - ELEVEN\n",
            " 38위 임영웅 - A bientot\n",
            " 39위 윤미래, 비비 (BIBI) - LAW (Prod. Czaer)\n",
            " 40위 Charlie Puth - That's Hilarious\n",
            " 41위 김승민 - 내 기쁨은 너가 벤틀리를 끄는 거야\n",
            " 42위 임영웅 - 손이 참 곱던 그대\n",
            " 43위 BE'O (비오) - LOVE me\n",
            " 44위 임영웅 - 인생찬가\n",
            " 45위 임영웅 - 사랑해 진짜\n",
            " 46위 경서예지, 전건호 - 다정히 내 이름을 부르면\n",
            " 47위 ITZY (있지) - SNEAKERS\n",
            " 48위 Charlie Puth - I Don't Think That I Like Her\n",
            " 49위 임영웅 - 연애편지\n",
            " 50위 방탄소년단 - Dynamite\n",
            " 51위 한동근 - 새벽에 걸려온 너의 전화는\n",
            " 52위 aespa - 도깨비불 (Illusion)\n",
            " 53위 임영웅 - 사랑역\n",
            " 54위 임한별 - 떠나보낼 준비해 둘걸 그랬어\n",
            " 55위 임영웅 - 보금자리\n",
            " 56위 볼빨간사춘기 - Love story\n",
            " 57위 임영웅 - 사랑해요 그대를\n",
            " 58위 Charlie Puth, 정국, 방탄소년단 - Left and Right (Feat. Jung Kook of BTS)\n",
            " 59위 나연 (TWICE) - POP!\n",
            " 60위 경서 - 밤하늘의 별을(2020)\n",
            " 61위 폴킴 - 모든 날, 모든 순간 (Every day, Every Moment)\n",
            " 62위 The Kid LAROI, Justin Bieber - STAY\n",
            " 63위 BIGBANG (빅뱅) - 봄여름가을겨울 (Still Life)\n",
            " 64위 잔나비 - 주저하는 연인들을 위해\n",
            " 65위 이영현 - 그래서 그대는\n",
            " 66위 탑현 - 사랑한다고 말해줘\n",
            " 67위 방탄소년단 - Butter\n",
            " 68위 김나영 - 못해\n",
            " 69위 진 - The Astronaut\n",
            " 70위 21학번 - 스티커 사진\n",
            " 71위 방탄소년단 - Yet To Come\n",
            " 72위 방탄소년단 - 봄날\n",
            " 73위 보라미유, MJ (써니사이드) - 통화연결음\n",
            " 74위 아이유 - strawberry moon\n",
            " 75위 NMIXX - DICE\n",
            " 76위 이무진 - 신호등\n",
            " 77위 방탄소년단 - Permission to Dance\n",
            " 78위 Red Velvet (레드벨벳) - Feel My Rhythm\n",
            " 79위 (여자)아이들 - MY BAG\n",
            " 80위 태연 (TAEYEON) - INVU\n",
            " 81위 aespa - Girls\n",
            " 82위 이석훈 - 바보에게 바보가 (웹툰 '연애의 발견' X 이석훈)\n",
            " 83위 아이유 - 내 손을 잡아\n",
            " 84위 아이유 - 드라마\n",
            " 85위 Justin Bieber - Off My Face\n",
            " 86위 김호중 - 그중에 그대를 만나\n",
            " 87위 케이시 (Kassy) - 늦은 밤 헤어지긴 너무 아쉬워\n",
            " 88위 aespa - Next Level\n",
            " 89위 sokodomo - 회전목마 (Feat. Zion.T, 원슈타인) (Prod. Slom)\n",
            " 90위 TWICE (트와이스) - Talk that Talk\n",
            " 91위 OneRepublic - I Ain't Worried\n",
            " 92위 경서 - 고백연습\n",
            " 93위 주시크 (Joosiq) - 너를 생각해\n",
            " 94위 박재범 - GANADARA (Feat. 아이유)\n",
            " 95위 김호중 - 나의 목소리로\n",
            " 96위 MSG워너비(M.O.M) - 듣고 싶을까\n",
            " 97위 김호중 - 인생은 뷰티풀\n",
            " 98위 태연 (TAEYEON) - Weekend\n",
            " 99위 주시크 (Joosiq) - 아무래도 난\n",
            "100위 YENA (최예나) - SMILEY (Feat. BIBI)\n"
          ]
        }
      ]
    },
    {
      "cell_type": "markdown",
      "source": [
        "### **2-4. 지니차트 200**"
      ],
      "metadata": {
        "id": "STnEETACloVS"
      }
    },
    {
      "cell_type": "code",
      "source": [
        "# 50위씩 4개의 페이지로 나누어져 있음\n",
        "url = 'https://www.genie.co.kr/chart/top200?ditc=D&ymd=20221101&hh=18&rtm=Y&pg='\n",
        "for i in range(1, 5):\n",
        "  site = '{}{}'.format(url, i)\n",
        "  print(site)"
      ],
      "metadata": {
        "colab": {
          "base_uri": "https://localhost:8080/"
        },
        "id": "HxQUGAJ_nvW4",
        "outputId": "ed16c3d5-ea6e-46e2-d245-34ba7b377c72"
      },
      "execution_count": null,
      "outputs": [
        {
          "output_type": "stream",
          "name": "stdout",
          "text": [
            "https://www.genie.co.kr/chart/top200?ditc=D&ymd=20221101&hh=18&rtm=Y&pg=1\n",
            "https://www.genie.co.kr/chart/top200?ditc=D&ymd=20221101&hh=18&rtm=Y&pg=2\n",
            "https://www.genie.co.kr/chart/top200?ditc=D&ymd=20221101&hh=18&rtm=Y&pg=3\n",
            "https://www.genie.co.kr/chart/top200?ditc=D&ymd=20221101&hh=18&rtm=Y&pg=4\n"
          ]
        }
      ]
    },
    {
      "cell_type": "code",
      "source": [
        "# User-Agent: Mozilla/5.0 (Windows NT 10.0; Win64; x64) AppleWebKit/537.36 (KHTML, like Gecko) Chrome/107.0.0.0 Safari/537.36\n",
        "# 접속을 막아놨을 때 받아오는 방법\n",
        "import time\n",
        "\n",
        "genie = []\n",
        "\n",
        "header = {'User-Agent':'Mozilla/5.0 (Windows NT 10.0; Win64; x64)'}\n",
        "url = 'https://www.genie.co.kr/chart/top200?ditc=D&ymd=20221101&hh=18&rtm=Y&pg='\n",
        "for i in range(1, 5):\n",
        "  site = '{}{}'.format(url, i)\n",
        "  request = requests.get(site, headers=header)\n",
        "  time.sleep(1)\n",
        "  soup = BeautifulSoup(request.text)\n",
        "\n",
        "  titles = soup.findAll('a', {'class':'title ellipsis'})\n",
        "  # print(titles)\n",
        "  artists = soup.findAll('a', {'class':'artist ellipsis'})\n",
        "  # print(artists)\n",
        "  for i in range(50):\n",
        "    if titles[i].text.strip().split('\\n')[0] == '19금':\n",
        "      title = titles[i].text.strip().split('\\n')[-1].replace(' ', '')\n",
        "    else:\n",
        "      title = titles[i].text.strip()\n",
        "    \n",
        "    artist = artists[i].text.strip()\n",
        "    genie.append((title, artist))\n",
        "\n",
        "print(genie)\n",
        "print(len(genie))"
      ],
      "metadata": {
        "colab": {
          "base_uri": "https://localhost:8080/"
        },
        "id": "uylpyQHlow5A",
        "outputId": "468096c9-03cd-4ccd-ff75-9493980dfca7"
      },
      "execution_count": null,
      "outputs": [
        {
          "output_type": "stream",
          "name": "stdout",
          "text": [
            "[('Nxde', '(여자)아이들'), ('사건의 지평선', '윤하 (YOUNHA)'), ('ANTIFRAGILE', 'LE SSERAFIM (르세라핌)'), ('새삥 (Prod. by ZICO) (Feat. 호미들)', '지코 (ZICO)'), ('After LIKE', 'IVE (아이브)'), ('Hype boy', '(여자)아이들'), ('Rush Hour (Feat. j-hope of BTS)', '윤하 (YOUNHA)'), ('Attention', 'LE SSERAFIM (르세라핌)'), ('Shut Down', '지코 (ZICO)'), ('Monologue', 'IVE (아이브)'), ('LOVE DIVE', 'NewJeans'), ('Pink Venom', 'Crush'), ('사랑은 늘 도망가', 'NewJeans'), ('자격지심 (Feat. ZICO)', 'BLACKPINK'), ('우리들의 블루스', '테이 (Tei)'), ('그때 그 순간 그대로 (그그그)', 'IVE (아이브)'), ('다시 만날 수 있을까', 'BLACKPINK'), ('TOMBOY', '임영웅'), ('우린 그렇게 사랑해서', \"BE'O (비오)\"), ('딱 10CM만', '임영웅'), ('보고싶었어', 'WSG워너비 (가야G)'), ('이제 나만 믿어요', '임영웅'), ('무지개', '(여자)아이들'), ('그라데이션', '강민경 (다비치) & 잔나비 최정훈'), (\"That's Hilarious\", '10CM & BIG Naughty (서동현)'), ('Cookie', 'WSG워너비 (4FIRE)'), ('아버지', '임영웅'), ('LAW (Prod. by Czaer)', '임영웅'), ('사랑인가 봐', '10CM'), ('That That (Prod. & Feat. SUGA of BTS)', 'Charlie Puth'), ('내가 아니라도', 'NewJeans'), ('LOVE me', '임영웅'), ('나의 X에게', '비비 (BIBI) & 윤미래'), ('ELEVEN', '멜로망스 (MeloMance)'), ('A bientot', '싸이 (Psy)'), ('해요 (2022)', '주호'), ('손이 참 곱던 그대', \"BE'O (비오)\"), ('FEARLESS', '경서'), ('다정히 내 이름을 부르면', 'IVE (아이브)'), ('사랑해 진짜', '임영웅'), ('사랑역', '#안녕'), ('정이라고 하자 (Feat. 10CM)', '임영웅'), ('연애편지', 'LE SSERAFIM (르세라핌)'), ('보금자리', '경서예지 & 전건호'), ('사랑해요 그대를', '임영웅'), ('FOREVER 1', '임영웅'), ('취중고백', 'BIG Naughty (서동현)'), ('인생찬가', '임영웅'), ('도깨비불 (Illusion)', '임영웅'), (\"I Don't Think That I Like Her\", '임영웅'), ('내 기쁨은 너가 벤틀리를 끄는 거야', '(여자)아이들'), ('Stay', '윤하 (YOUNHA)'), ('Dynamite', 'LE SSERAFIM (르세라핌)'), ('너의 모든 순간', '지코 (ZICO)'), ('Love story', 'IVE (아이브)'), ('SNEAKERS', '김승민'), ('신호등', 'The Kid LAROI & Justin Bieber'), ('떠나보낼 준비해 둘걸 그랬어', '방탄소년단'), ('봄여름가을겨울 (Still Life)', '성시경'), ('Left and Right (Feat. Jung Kook of BTS)', '볼빨간사춘기'), ('Loving You Girl (Feat. Hkeem)', 'ITZY (있지)'), ('POP!', '이무진'), ('Butter', '임한별'), ('MY BAG', 'BIGBANG (빅뱅)'), ('새벽에 걸려온 너의 전화는', 'Charlie Puth & 정국 & 방탄소년단'), ('Yet To Come', 'Peder Elias'), ('밤하늘의 별을 (2020)', '나연 (TWICE)'), ('strawberry moon', '방탄소년단'), ('My Universe', '(여자)아이들'), ('고백', '한동근'), ('작은 것들을 위한 시 (Boy With Luv) (Feat. Halsey)', '방탄소년단'), ('스티커 사진', '경서'), ('주저하는 연인들을 위해', '아이유 (IU)'), ('언제나 사랑해', 'Coldplay & 방탄소년단'), ('Bad Habits', '멜로망스 (MeloMance)'), ('Dangerously', '방탄소년단'), ('2002', '21학번'), ('모든 날, 모든 순간 (Every day, Every Moment)', '잔나비'), ('Bad', '케이시 (Kassy)'), ('팡파레', 'Ed Sheeran'), ('OHAYO MY NIGHT', 'Charlie Puth'), ('회전목마 (Feat. Zion.T & 원슈타인) (Prod. by Slom)', 'Anne-Marie'), ('Permission to Dance', '폴킴'), ('Next Level', 'Christopher'), ('그래서 그대는', '다비치'), ('Feel My Rhythm', '디핵 (D-Hack) & PATEKO'), ('듣고 싶을까', 'sokodomo'), ('Celebrity', '방탄소년단'), ('사랑한다고 말해줘', 'aespa'), ('The Astronaut', '이영현'), (\"바보에게 바보가 (웹툰 '연애의 발견' X 이석훈)\", 'Red Velvet (레드벨벳)'), ('어떻게 이별까지 사랑하겠어, 널 사랑하는 거지', 'MSG워너비 (M.O.M)'), ('봄날', '아이유 (IU)'), ('바라만 본다', '탑현'), ('INVU', '진'), ('GANADARA (Feat. 아이유)', '이석훈'), ('리무진 (Feat. MINO) (Prod. by GRAY)', 'AKMU (악뮤)'), ('내 손을 잡아', '방탄소년단'), ('헤픈 우연', 'MSG워너비 (M.O.M)'), ('너를 생각해', '태연 (TAEYEON)'), (\"Stronger (What Doesn't Kill You)\", '(여자)아이들'), ('열이올라요 (Heart Burn)', '윤하 (YOUNHA)'), ('문득', 'LE SSERAFIM (르세라핌)'), ('있잖아', '지코 (ZICO)'), ('못해', 'IVE (아이브)'), ('Weekend', 'Kelly Clarkson'), ('찰나가 영원이 될 때 (The Eternal Moment)', '선미'), ('Off My Face', \"BE'O (비오)\"), ('오늘도 빛나는 너에게 (To You My Light) (Feat.이라온)', '폴킴'), ('스물다섯, 스물하나', '김나영'), ('Blueming', '태연 (TAEYEON)'), ('라일락', '마크툽 (Maktub)'), ('고백연습', 'Justin Bieber'), ('에잇 (Prod. & Feat. SUGA of BTS)', '마크툽 (Maktub)'), ('Girls', '자우림'), ('Tiny Riot', '아이유 (IU)'), ('사이렌 Remix (Feat. UNEDUCATED KID & Paul Blanco)', '아이유 (IU)'), ('흔들리는 꽃들 속에서 네 샴푸향이 느껴진거야', '경서'), ('Every Second', '아이유 (IU)'), ('At My Worst', 'aespa'), ('그중에 그대를 만나', 'Sam Ryder'), ('통화연결음', '호미들'), ('드라마', '장범준'), ('오래된 노래', 'Mina Okabe'), ('너의 번호를 누르고 (Prod. by 영화처럼)', 'Pink Sweat$'), ('Talk that Talk', '김호중'), (\"롤린 (Rollin')\", '보라미유 & MJ (써니사이드)'), ('호랑수월가', '아이유 (IU)'), ('아무래도 난', 'Standing Egg (스탠딩 에그)'), ('늦은 밤 헤어지긴 너무 아쉬워', '#안녕'), ('서랍', 'TWICE (트와이스)'), ('첫눈처럼 너에게 가겠다', '브레이브걸스 (Brave girls)'), ('abcdefu', '탑현'), ('아로하', '주시크 (Joosiq)'), ('GHOST TOWN', '케이시 (Kassy)'), ('Counting Stars (Feat. Beenzino)', '10CM'), ('안녕', '에일리 (Ailee)'), ('METEOR', 'GAYLE'), ('Light Switch', '조정석'), ('12 : 45 (Stripped)', 'Benson Boone'), ('희재', \"BE'O (비오)\"), ('Remembered', '폴킴'), ('밤편지', '창모 (CHANGMO)'), ('나의 목소리로', 'Charlie Puth'), ('DICE', 'etham'), ('주마등', '성시경'), ('오늘 밤이 지나면', '박봄 (Park Bom)'), ('인생은 뷰티풀', '아이유 (IU)'), ('어제처럼', '김호중'), ('나의 첫사랑', 'NMIXX'), ('이러면 안 될 거 아는데 너 앞에만 서면 나락 (Feat. 10CM)', '(여자)아이들'), ('Way Back Home', '윤하 (YOUNHA)'), ('빛이 나는 사람', 'LE SSERAFIM (르세라핌)'), ('비가 오는 날엔 (2021)', '지코 (ZICO)'), ('사랑하긴 했었나요 스쳐가는 인연이었나요 짧지않은 우리 함께했던 시간들이 자꾸 내 마음을 가둬두네', 'IVE (아이브)'), ('Rainy day (Feat. ASH ISLAND & Skinny Brown)', '딘딘 (DINDIN)'), (\"I Ain't Worried\", '숀 (SHAUN)'), ('늦은 밤 너의 집 앞 골목길에서', '김호중'), ('Memories', '헤이즈 (Heize)'), ('parachute', '잔나비'), ('약속 (約束)', 'PATEKO (파테코)'), ('친구', 'OneRepublic'), ('SMILEY (Feat. BIBI)', '노을'), ('추억은 만남보다 이별에 남아', 'Maroon 5'), ('그 하루 (Feat. 반하나)', 'John K'), ('너에게 못했던 내 마지막 말은', '김호중'), ('만남은 쉽고 이별은 어려워 (Feat. Leellamarz) (Prod. by TOIL)', '김호중'), ('가을밤에 든 생각', 'YENA (최예나)'), ('비와 당신', '정동하'), ('낙하 (With 아이유)', '주호'), ('Monologue', '다비치'), ('슬픈등', '베이식 (Basick)'), ('Shape Of You', '잔나비'), ('Lovesick Girls', '이무진'), ('밝게 빛나는 별이 되어 비춰줄게', 'AKMU (악뮤)'), ('시작', '버즈 (Buzz)'), ('Timeless', '김호중'), ('SUN GOES DOWN (Prod. by R.Tee)', 'Ed Sheeran'), ('Bad Decisions', 'BLACKPINK'), ('Champagne', '송이한'), ('그때로 돌아가', '가호 (Gaho)'), ('Love in Portofino', 'SG워너비'), ('Brucia La Terra', '저스디스 (JUSTHIS) & R.Tee'), ('그날에 나는 맘이 편했을까', 'Benny Blanco & 방탄소년단 & Snoop Dogg'), ('미친 것처럼', '김호중'), ('노래해요 (Duet With 최백호)', '로이킴'), ('Dance Monkey', '김호중'), ('달려라 방탄', '김호중'), ('진심이었던 사람만 바보가 돼', '이예준'), ('Peaches(Feat.DanielCaesar&Giveon)', 'V.O.S'), ('CASE 143', '김호중'), ('우리가 남이 된다면', 'Tones And I'), ('좋은 사람 있으면 소개시켜줘', '방탄소년단'), ('잠수이별 (Prod. by 코드 쿤스트)', '권진아'), ('ZOOM', 'Justin Bieber'), ('Dun Dun Dance', 'Stray Kids (스트레이 키즈)'), ('첫사랑', '노을'), ('I LOVE U', '조이 (JOY)'), ('달', '우원재 (Woo) & meenoi (미노이)'), ('사랑이야', '제시')]\n",
            "200\n"
          ]
        }
      ]
    },
    {
      "cell_type": "code",
      "source": [
        "for i in range(200):\n",
        "  # print('{0:3d}위 {1} - {2}'.format(i+1, genie[i][1], genie[i][0]))\n",
        "  print(f'{i+1:3d}위 {genie[i][1]} - {genie[i][0]}')"
      ],
      "metadata": {
        "colab": {
          "base_uri": "https://localhost:8080/"
        },
        "id": "U4PYRKOupu1d",
        "outputId": "23d27851-ce40-4406-d72b-7e45a7b2f907"
      },
      "execution_count": null,
      "outputs": [
        {
          "output_type": "stream",
          "name": "stdout",
          "text": [
            "  1위 (여자)아이들 - Nxde\n",
            "  2위 윤하 (YOUNHA) - 사건의 지평선\n",
            "  3위 LE SSERAFIM (르세라핌) - ANTIFRAGILE\n",
            "  4위 지코 (ZICO) - 새삥 (Prod. by ZICO) (Feat. 호미들)\n",
            "  5위 IVE (아이브) - After LIKE\n",
            "  6위 (여자)아이들 - Hype boy\n",
            "  7위 윤하 (YOUNHA) - Rush Hour (Feat. j-hope of BTS)\n",
            "  8위 LE SSERAFIM (르세라핌) - Attention\n",
            "  9위 지코 (ZICO) - Shut Down\n",
            " 10위 IVE (아이브) - Monologue\n",
            " 11위 NewJeans - LOVE DIVE\n",
            " 12위 Crush - Pink Venom\n",
            " 13위 NewJeans - 사랑은 늘 도망가\n",
            " 14위 BLACKPINK - 자격지심 (Feat. ZICO)\n",
            " 15위 테이 (Tei) - 우리들의 블루스\n",
            " 16위 IVE (아이브) - 그때 그 순간 그대로 (그그그)\n",
            " 17위 BLACKPINK - 다시 만날 수 있을까\n",
            " 18위 임영웅 - TOMBOY\n",
            " 19위 BE'O (비오) - 우린 그렇게 사랑해서\n",
            " 20위 임영웅 - 딱 10CM만\n",
            " 21위 WSG워너비 (가야G) - 보고싶었어\n",
            " 22위 임영웅 - 이제 나만 믿어요\n",
            " 23위 (여자)아이들 - 무지개\n",
            " 24위 강민경 (다비치) & 잔나비 최정훈 - 그라데이션\n",
            " 25위 10CM & BIG Naughty (서동현) - That's Hilarious\n",
            " 26위 WSG워너비 (4FIRE) - Cookie\n",
            " 27위 임영웅 - 아버지\n",
            " 28위 임영웅 - LAW (Prod. by Czaer)\n",
            " 29위 10CM - 사랑인가 봐\n",
            " 30위 Charlie Puth - That That (Prod. & Feat. SUGA of BTS)\n",
            " 31위 NewJeans - 내가 아니라도\n",
            " 32위 임영웅 - LOVE me\n",
            " 33위 비비 (BIBI) & 윤미래 - 나의 X에게\n",
            " 34위 멜로망스 (MeloMance) - ELEVEN\n",
            " 35위 싸이 (Psy) - A bientot\n",
            " 36위 주호 - 해요 (2022)\n",
            " 37위 BE'O (비오) - 손이 참 곱던 그대\n",
            " 38위 경서 - FEARLESS\n",
            " 39위 IVE (아이브) - 다정히 내 이름을 부르면\n",
            " 40위 임영웅 - 사랑해 진짜\n",
            " 41위 #안녕 - 사랑역\n",
            " 42위 임영웅 - 정이라고 하자 (Feat. 10CM)\n",
            " 43위 LE SSERAFIM (르세라핌) - 연애편지\n",
            " 44위 경서예지 & 전건호 - 보금자리\n",
            " 45위 임영웅 - 사랑해요 그대를\n",
            " 46위 임영웅 - FOREVER 1\n",
            " 47위 BIG Naughty (서동현) - 취중고백\n",
            " 48위 임영웅 - 인생찬가\n",
            " 49위 임영웅 - 도깨비불 (Illusion)\n",
            " 50위 임영웅 - I Don't Think That I Like Her\n",
            " 51위 (여자)아이들 - 내 기쁨은 너가 벤틀리를 끄는 거야\n",
            " 52위 윤하 (YOUNHA) - Stay\n",
            " 53위 LE SSERAFIM (르세라핌) - Dynamite\n",
            " 54위 지코 (ZICO) - 너의 모든 순간\n",
            " 55위 IVE (아이브) - Love story\n",
            " 56위 김승민 - SNEAKERS\n",
            " 57위 The Kid LAROI & Justin Bieber - 신호등\n",
            " 58위 방탄소년단 - 떠나보낼 준비해 둘걸 그랬어\n",
            " 59위 성시경 - 봄여름가을겨울 (Still Life)\n",
            " 60위 볼빨간사춘기 - Left and Right (Feat. Jung Kook of BTS)\n",
            " 61위 ITZY (있지) - Loving You Girl (Feat. Hkeem)\n",
            " 62위 이무진 - POP!\n",
            " 63위 임한별 - Butter\n",
            " 64위 BIGBANG (빅뱅) - MY BAG\n",
            " 65위 Charlie Puth & 정국 & 방탄소년단 - 새벽에 걸려온 너의 전화는\n",
            " 66위 Peder Elias - Yet To Come\n",
            " 67위 나연 (TWICE) - 밤하늘의 별을 (2020)\n",
            " 68위 방탄소년단 - strawberry moon\n",
            " 69위 (여자)아이들 - My Universe\n",
            " 70위 한동근 - 고백\n",
            " 71위 방탄소년단 - 작은 것들을 위한 시 (Boy With Luv) (Feat. Halsey)\n",
            " 72위 경서 - 스티커 사진\n",
            " 73위 아이유 (IU) - 주저하는 연인들을 위해\n",
            " 74위 Coldplay & 방탄소년단 - 언제나 사랑해\n",
            " 75위 멜로망스 (MeloMance) - Bad Habits\n",
            " 76위 방탄소년단 - Dangerously\n",
            " 77위 21학번 - 2002\n",
            " 78위 잔나비 - 모든 날, 모든 순간 (Every day, Every Moment)\n",
            " 79위 케이시 (Kassy) - Bad\n",
            " 80위 Ed Sheeran - 팡파레\n",
            " 81위 Charlie Puth - OHAYO MY NIGHT\n",
            " 82위 Anne-Marie - 회전목마 (Feat. Zion.T & 원슈타인) (Prod. by Slom)\n",
            " 83위 폴킴 - Permission to Dance\n",
            " 84위 Christopher - Next Level\n",
            " 85위 다비치 - 그래서 그대는\n",
            " 86위 디핵 (D-Hack) & PATEKO - Feel My Rhythm\n",
            " 87위 sokodomo - 듣고 싶을까\n",
            " 88위 방탄소년단 - Celebrity\n",
            " 89위 aespa - 사랑한다고 말해줘\n",
            " 90위 이영현 - The Astronaut\n",
            " 91위 Red Velvet (레드벨벳) - 바보에게 바보가 (웹툰 '연애의 발견' X 이석훈)\n",
            " 92위 MSG워너비 (M.O.M) - 어떻게 이별까지 사랑하겠어, 널 사랑하는 거지\n",
            " 93위 아이유 (IU) - 봄날\n",
            " 94위 탑현 - 바라만 본다\n",
            " 95위 진 - INVU\n",
            " 96위 이석훈 - GANADARA (Feat. 아이유)\n",
            " 97위 AKMU (악뮤) - 리무진 (Feat. MINO) (Prod. by GRAY)\n",
            " 98위 방탄소년단 - 내 손을 잡아\n",
            " 99위 MSG워너비 (M.O.M) - 헤픈 우연\n",
            "100위 태연 (TAEYEON) - 너를 생각해\n",
            "101위 (여자)아이들 - Stronger (What Doesn't Kill You)\n",
            "102위 윤하 (YOUNHA) - 열이올라요 (Heart Burn)\n",
            "103위 LE SSERAFIM (르세라핌) - 문득\n",
            "104위 지코 (ZICO) - 있잖아\n",
            "105위 IVE (아이브) - 못해\n",
            "106위 Kelly Clarkson - Weekend\n",
            "107위 선미 - 찰나가 영원이 될 때 (The Eternal Moment)\n",
            "108위 BE'O (비오) - Off My Face\n",
            "109위 폴킴 - 오늘도 빛나는 너에게 (To You My Light) (Feat.이라온)\n",
            "110위 김나영 - 스물다섯, 스물하나\n",
            "111위 태연 (TAEYEON) - Blueming\n",
            "112위 마크툽 (Maktub) - 라일락\n",
            "113위 Justin Bieber - 고백연습\n",
            "114위 마크툽 (Maktub) - 에잇 (Prod. & Feat. SUGA of BTS)\n",
            "115위 자우림 - Girls\n",
            "116위 아이유 (IU) - Tiny Riot\n",
            "117위 아이유 (IU) - 사이렌 Remix (Feat. UNEDUCATED KID & Paul Blanco)\n",
            "118위 경서 - 흔들리는 꽃들 속에서 네 샴푸향이 느껴진거야\n",
            "119위 아이유 (IU) - Every Second\n",
            "120위 aespa - At My Worst\n",
            "121위 Sam Ryder - 그중에 그대를 만나\n",
            "122위 호미들 - 통화연결음\n",
            "123위 장범준 - 드라마\n",
            "124위 Mina Okabe - 오래된 노래\n",
            "125위 Pink Sweat$ - 너의 번호를 누르고 (Prod. by 영화처럼)\n",
            "126위 김호중 - Talk that Talk\n",
            "127위 보라미유 & MJ (써니사이드) - 롤린 (Rollin')\n",
            "128위 아이유 (IU) - 호랑수월가\n",
            "129위 Standing Egg (스탠딩 에그) - 아무래도 난\n",
            "130위 #안녕 - 늦은 밤 헤어지긴 너무 아쉬워\n",
            "131위 TWICE (트와이스) - 서랍\n",
            "132위 브레이브걸스 (Brave girls) - 첫눈처럼 너에게 가겠다\n",
            "133위 탑현 - abcdefu\n",
            "134위 주시크 (Joosiq) - 아로하\n",
            "135위 케이시 (Kassy) - GHOST TOWN\n",
            "136위 10CM - Counting Stars (Feat. Beenzino)\n",
            "137위 에일리 (Ailee) - 안녕\n",
            "138위 GAYLE - METEOR\n",
            "139위 조정석 - Light Switch\n",
            "140위 Benson Boone - 12 : 45 (Stripped)\n",
            "141위 BE'O (비오) - 희재\n",
            "142위 폴킴 - Remembered\n",
            "143위 창모 (CHANGMO) - 밤편지\n",
            "144위 Charlie Puth - 나의 목소리로\n",
            "145위 etham - DICE\n",
            "146위 성시경 - 주마등\n",
            "147위 박봄 (Park Bom) - 오늘 밤이 지나면\n",
            "148위 아이유 (IU) - 인생은 뷰티풀\n",
            "149위 김호중 - 어제처럼\n",
            "150위 NMIXX - 나의 첫사랑\n",
            "151위 (여자)아이들 - 이러면 안 될 거 아는데 너 앞에만 서면 나락 (Feat. 10CM)\n",
            "152위 윤하 (YOUNHA) - Way Back Home\n",
            "153위 LE SSERAFIM (르세라핌) - 빛이 나는 사람\n",
            "154위 지코 (ZICO) - 비가 오는 날엔 (2021)\n",
            "155위 IVE (아이브) - 사랑하긴 했었나요 스쳐가는 인연이었나요 짧지않은 우리 함께했던 시간들이 자꾸 내 마음을 가둬두네\n",
            "156위 딘딘 (DINDIN) - Rainy day (Feat. ASH ISLAND & Skinny Brown)\n",
            "157위 숀 (SHAUN) - I Ain't Worried\n",
            "158위 김호중 - 늦은 밤 너의 집 앞 골목길에서\n",
            "159위 헤이즈 (Heize) - Memories\n",
            "160위 잔나비 - parachute\n",
            "161위 PATEKO (파테코) - 약속 (約束)\n",
            "162위 OneRepublic - 친구\n",
            "163위 노을 - SMILEY (Feat. BIBI)\n",
            "164위 Maroon 5 - 추억은 만남보다 이별에 남아\n",
            "165위 John K - 그 하루 (Feat. 반하나)\n",
            "166위 김호중 - 너에게 못했던 내 마지막 말은\n",
            "167위 김호중 - 만남은 쉽고 이별은 어려워 (Feat. Leellamarz) (Prod. by TOIL)\n",
            "168위 YENA (최예나) - 가을밤에 든 생각\n",
            "169위 정동하 - 비와 당신\n",
            "170위 주호 - 낙하 (With 아이유)\n",
            "171위 다비치 - Monologue\n",
            "172위 베이식 (Basick) - 슬픈등\n",
            "173위 잔나비 - Shape Of You\n",
            "174위 이무진 - Lovesick Girls\n",
            "175위 AKMU (악뮤) - 밝게 빛나는 별이 되어 비춰줄게\n",
            "176위 버즈 (Buzz) - 시작\n",
            "177위 김호중 - Timeless\n",
            "178위 Ed Sheeran - SUN GOES DOWN (Prod. by R.Tee)\n",
            "179위 BLACKPINK - Bad Decisions\n",
            "180위 송이한 - Champagne\n",
            "181위 가호 (Gaho) - 그때로 돌아가\n",
            "182위 SG워너비 - Love in Portofino\n",
            "183위 저스디스 (JUSTHIS) & R.Tee - Brucia La Terra\n",
            "184위 Benny Blanco & 방탄소년단 & Snoop Dogg - 그날에 나는 맘이 편했을까\n",
            "185위 김호중 - 미친 것처럼\n",
            "186위 로이킴 - 노래해요 (Duet With 최백호)\n",
            "187위 김호중 - Dance Monkey\n",
            "188위 김호중 - 달려라 방탄\n",
            "189위 이예준 - 진심이었던 사람만 바보가 돼\n",
            "190위 V.O.S - Peaches(Feat.DanielCaesar&Giveon)\n",
            "191위 김호중 - CASE 143\n",
            "192위 Tones And I - 우리가 남이 된다면\n",
            "193위 방탄소년단 - 좋은 사람 있으면 소개시켜줘\n",
            "194위 권진아 - 잠수이별 (Prod. by 코드 쿤스트)\n",
            "195위 Justin Bieber - ZOOM\n",
            "196위 Stray Kids (스트레이 키즈) - Dun Dun Dance\n",
            "197위 노을 - 첫사랑\n",
            "198위 조이 (JOY) - I LOVE U\n",
            "199위 우원재 (Woo) & meenoi (미노이) - 달\n",
            "200위 제시 - 사랑이야\n"
          ]
        }
      ]
    },
    {
      "cell_type": "code",
      "source": [],
      "metadata": {
        "id": "yh5o6uDZx25R"
      },
      "execution_count": null,
      "outputs": []
    }
  ]
}